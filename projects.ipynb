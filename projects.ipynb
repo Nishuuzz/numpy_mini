{
  "nbformat": 4,
  "nbformat_minor": 0,
  "metadata": {
    "colab": {
      "provenance": []
    },
    "kernelspec": {
      "name": "python3",
      "display_name": "Python 3"
    },
    "language_info": {
      "name": "python"
    }
  },
  "cells": [
    {
      "cell_type": "markdown",
      "source": [],
      "metadata": {
        "id": "RnK5bHhMbbib"
      }
    },
    {
      "cell_type": "markdown",
      "source": [
        "### 🎯 **Objective:**\n",
        "\n",
        "You are working with student marks data and need to prepare and organize it using NumPy arrays.Your goal is to create, modify, and analyze the data efficiently without using any external libraries.\n",
        "\n",
        "### 🧠 **Project Description:**\n",
        "\n",
        "A school has recorded the marks of several students in different subjects.You are required to design a NumPy-based solution to store, manage, and process this data.Your tasks involve creating arrays, changing their shapes, combining data, performing modifications, and analyzing patterns — all using NumPy.\n",
        "\n",
        "### 📋 **Project Tasks:**\n",
        "\n",
        "1.  **Data Creation:**Create suitable arrays to represent students, subjects, and their marks.\n",
        "    \n",
        "2.  **Data Exploration:**Explore the properties of these arrays — such as their dimensions, size, and structure.\n",
        "    \n",
        "3.  **Data Transformation:**Perform necessary reshaping and reorganization of the data to suit various operations.\n",
        "    \n",
        "4.  **Data Combination:**Merge or split arrays to simulate adding new students, new subjects, or reorganizing the dataset.\n",
        "    \n",
        "5.  **Data Modification:**Apply operations to update marks, remove data, or identify unique information.\n",
        "    \n",
        "6.  **Data Type Handling:**Demonstrate how the same data can exist in different data types and how changes affect results.\n",
        "    \n",
        "7.  **Copy and View Behavior:**Show the difference between creating a full copy of an array and creating a view of the same data."
      ],
      "metadata": {
        "id": "rLsUO-sI0H1F"
      }
    },
    {
      "cell_type": "code",
      "source": [
        "import numpy as np"
      ],
      "metadata": {
        "id": "9Eo4Jdclc44a"
      },
      "execution_count": 9,
      "outputs": []
    },
    {
      "cell_type": "markdown",
      "source": [
        "1)data creation:Create suitable arrays to represent students, subjects, and their marks"
      ],
      "metadata": {
        "id": "QBseZ8VObq9k"
      }
    },
    {
      "cell_type": "markdown",
      "source": [
        "2)data exploration:Explore the properties of these arrays — such as their dimensions, size, and structure."
      ],
      "metadata": {
        "id": "_bCUDLvCbv63"
      }
    },
    {
      "cell_type": "code",
      "source": [
        "std_dt=np.array([80,87,89,87,96,78,79,76,96,80,81,89])\n",
        "std_dt"
      ],
      "metadata": {
        "colab": {
          "base_uri": "https://localhost:8080/"
        },
        "id": "FplkrrMTXjIR",
        "outputId": "6d4bcfe3-9b5b-4fcf-9faf-3c2b656fd972"
      },
      "execution_count": 10,
      "outputs": [
        {
          "output_type": "execute_result",
          "data": {
            "text/plain": [
              "array([80, 87, 89, 87, 96, 78, 79, 76, 96, 80, 81, 89])"
            ]
          },
          "metadata": {},
          "execution_count": 10
        }
      ]
    },
    {
      "cell_type": "code",
      "source": [
        "#data exploration\n",
        "print(std_dt.ndim)\n",
        "print(std_dt.size)\n",
        "print(std_dt.shape)"
      ],
      "metadata": {
        "colab": {
          "base_uri": "https://localhost:8080/"
        },
        "id": "oMGcEkPfYHJY",
        "outputId": "db6ecf98-a7b7-4e1e-dfd5-a04d89e0b309"
      },
      "execution_count": 11,
      "outputs": [
        {
          "output_type": "stream",
          "name": "stdout",
          "text": [
            "1\n",
            "12\n",
            "(12,)\n"
          ]
        }
      ]
    },
    {
      "cell_type": "markdown",
      "source": [
        "3)data transformation:Perform necessary reshaping and reorganization of the data to suit various operations."
      ],
      "metadata": {
        "id": "SKyb0cnjcG3V"
      }
    },
    {
      "cell_type": "code",
      "source": [
        "arr2=std_dt.reshape((3,4))\n",
        "arr2"
      ],
      "metadata": {
        "colab": {
          "base_uri": "https://localhost:8080/"
        },
        "id": "LSRtlRH1cLG8",
        "outputId": "f8b7778d-840a-407f-e65a-9b4aef4ed0b4"
      },
      "execution_count": 12,
      "outputs": [
        {
          "output_type": "execute_result",
          "data": {
            "text/plain": [
              "array([[80, 87, 89, 87],\n",
              "       [96, 78, 79, 76],\n",
              "       [96, 80, 81, 89]])"
            ]
          },
          "metadata": {},
          "execution_count": 12
        }
      ]
    },
    {
      "cell_type": "markdown",
      "source": [
        "4)Data Combination:Merge or split arrays to simulate adding new students, new subjects, or reorganizing the dataset."
      ],
      "metadata": {
        "id": "xnqFIGfUdHfr"
      }
    },
    {
      "cell_type": "code",
      "source": [
        "new_d=np.array([67,87,97,73])\n",
        "\n"
      ],
      "metadata": {
        "id": "URJwPlajdOVA"
      },
      "execution_count": 13,
      "outputs": []
    },
    {
      "cell_type": "code",
      "source": [
        "new_std_data=np.vstack((arr2,new_d))\n",
        "new_std_data\n",
        "\n"
      ],
      "metadata": {
        "colab": {
          "base_uri": "https://localhost:8080/"
        },
        "id": "B2eMmi2iQ4Hs",
        "outputId": "e426d31d-1426-46d5-e5ed-6742ccbea982"
      },
      "execution_count": 14,
      "outputs": [
        {
          "output_type": "execute_result",
          "data": {
            "text/plain": [
              "array([[80, 87, 89, 87],\n",
              "       [96, 78, 79, 76],\n",
              "       [96, 80, 81, 89],\n",
              "       [67, 87, 97, 73]])"
            ]
          },
          "metadata": {},
          "execution_count": 14
        }
      ]
    },
    {
      "cell_type": "markdown",
      "source": [
        "5)Data Modification:Apply operations to update marks, remove data, or identify unique information."
      ],
      "metadata": {
        "id": "h7vJpLRVRbXB"
      }
    },
    {
      "cell_type": "code",
      "source": [
        "#update marks\n",
        "new_std_data[1,2]=87\n",
        "new_std_data"
      ],
      "metadata": {
        "colab": {
          "base_uri": "https://localhost:8080/"
        },
        "id": "wDWKbV27RZsa",
        "outputId": "1c0d90df-6443-437c-9a7b-f2b42e9a6091"
      },
      "execution_count": 15,
      "outputs": [
        {
          "output_type": "execute_result",
          "data": {
            "text/plain": [
              "array([[80, 87, 89, 87],\n",
              "       [96, 78, 87, 76],\n",
              "       [96, 80, 81, 89],\n",
              "       [67, 87, 97, 73]])"
            ]
          },
          "metadata": {},
          "execution_count": 15
        }
      ]
    },
    {
      "cell_type": "code",
      "source": [
        "#remove data\n",
        "new_data=np.delete(new_std_data,4)\n",
        "new_data"
      ],
      "metadata": {
        "colab": {
          "base_uri": "https://localhost:8080/"
        },
        "id": "4QAOdHZbR_Ld",
        "outputId": "6ed6c1a5-a755-421b-9ed3-005f01cbca2b"
      },
      "execution_count": 16,
      "outputs": [
        {
          "output_type": "execute_result",
          "data": {
            "text/plain": [
              "array([80, 87, 89, 87, 78, 87, 76, 96, 80, 81, 89, 67, 87, 97, 73])"
            ]
          },
          "metadata": {},
          "execution_count": 16
        }
      ]
    },
    {
      "cell_type": "code",
      "source": [
        "#unique data\n",
        "unique_data=np.unique(new_data)\n",
        "unique_data\n"
      ],
      "metadata": {
        "colab": {
          "base_uri": "https://localhost:8080/"
        },
        "id": "kq_fU27xSKxd",
        "outputId": "efe5b427-d6cd-4790-92b2-0ac4258357ea"
      },
      "execution_count": 17,
      "outputs": [
        {
          "output_type": "execute_result",
          "data": {
            "text/plain": [
              "array([67, 73, 76, 78, 80, 81, 87, 89, 96, 97])"
            ]
          },
          "metadata": {},
          "execution_count": 17
        }
      ]
    },
    {
      "cell_type": "markdown",
      "source": [
        "6)Data Type Handling:Demonstrate how the same data can exist in different data types and how changes affect results."
      ],
      "metadata": {
        "id": "Utud0sVeSdba"
      }
    },
    {
      "cell_type": "code",
      "source": [
        "#data type changes\n",
        "print(unique_data.dtype)\n",
        "\n",
        "#copy data\n",
        "copied_marks=np.copy(unique_data)\n",
        "print(copied_marks)\n",
        "#changing the data type\n",
        "copied_marks.astype(float)\n"
      ],
      "metadata": {
        "colab": {
          "base_uri": "https://localhost:8080/"
        },
        "id": "AwDLByfhSk6a",
        "outputId": "346a85b0-ffc7-4c6c-f9d5-84d7e6076927"
      },
      "execution_count": 18,
      "outputs": [
        {
          "output_type": "stream",
          "name": "stdout",
          "text": [
            "int64\n",
            "[67 73 76 78 80 81 87 89 96 97]\n"
          ]
        },
        {
          "output_type": "execute_result",
          "data": {
            "text/plain": [
              "array([67., 73., 76., 78., 80., 81., 87., 89., 96., 97.])"
            ]
          },
          "metadata": {},
          "execution_count": 18
        }
      ]
    },
    {
      "cell_type": "markdown",
      "source": [
        "7)Copy and View Behavior:Show the difference between creating a full copy of an array and creating a view of the same data."
      ],
      "metadata": {
        "id": "iUodT0ZR08rR"
      }
    },
    {
      "cell_type": "code",
      "source": [
        "\n",
        "# Create an original array\n",
        "a=np.array([1, 2, 3, 4, 5])\n",
        "\n",
        "# Create a view\n",
        "view_b = a.view()\n",
        "\n",
        "# Create a full copy\n",
        "copy_c = a.copy()\n",
        "\n",
        "# Modify the original array\n",
        "a[0] = 20\n",
        "\n",
        "print( a)\n",
        "print( view_b)\n",
        "print( copy_c)\n",
        "\n",
        "\n",
        "\n"
      ],
      "metadata": {
        "colab": {
          "base_uri": "https://localhost:8080/"
        },
        "id": "I6F0eeYp1BXi",
        "outputId": "0f5ba560-7c2a-472c-adba-d3da099e9781"
      },
      "execution_count": 28,
      "outputs": [
        {
          "output_type": "stream",
          "name": "stdout",
          "text": [
            "[20  2  3  4  5]\n",
            "[20  2  3  4  5]\n",
            "[1 2 3 4 5]\n"
          ]
        }
      ]
    }
  ]
}